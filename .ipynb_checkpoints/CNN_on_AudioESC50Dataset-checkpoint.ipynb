{
 "cells": [
  {
   "cell_type": "markdown",
   "metadata": {},
   "source": [
    "## 1. Librarie's import"
   ]
  },
  {
   "cell_type": "code",
   "execution_count": 1,
   "metadata": {},
   "outputs": [],
   "source": [
    "from os import listdir\n",
    "from os.path import isfile, join\n",
    "\n",
    "from matplotlib import pyplot as plt\n",
    "import torch\n",
    "import torch.nn as nn\n",
    "from torch.utils.data import Dataset\n",
    "import numpy as np\n",
    "import pandas as pd\n",
    "\n",
    "import soundfile as sf\n",
    "from scipy import signal\n",
    "import random\n",
    "import librosa"
   ]
  },
  {
   "cell_type": "markdown",
   "metadata": {},
   "source": [
    "## 2. Loading OGG files (audio files)"
   ]
  },
  {
   "cell_type": "code",
   "execution_count": 2,
   "metadata": {},
   "outputs": [],
   "source": [
    "def load_ogg_file(audio, max_ms = 5000):\n",
    "    # Load encoded wav file\n",
    "    x, fs = audio\n",
    "    # Sampling frequency of the ADC\n",
    "    sr = 10989\n",
    "    M = fs//sr\n",
    "    # Resampling the audio file from 44100 Hz to 10200\n",
    "    sig = signal.resample(x, int(len(x)/M))\n",
    "    \n",
    "    sig_len = len(sig)\n",
    "    max_len = int(sr * max_ms/1000)\n",
    "\n",
    "    if (sig_len > max_len):\n",
    "        sig = sig[:max_len]\n",
    "\n",
    "    elif (sig_len < max_len):\n",
    "        # Length of padding to add at the beginning and end of the signal\n",
    "        pad_begin_len = random.randint(0, max_len - sig_len)\n",
    "        pad_end_len = max_len - sig_len - pad_begin_len\n",
    "\n",
    "        # Pad with 0s\n",
    "        pad_begin = np.zeros(pad_begin_len)\n",
    "        pad_end = np.zeros(pad_end_len)\n",
    "\n",
    "        sig = np.concatenate((pad_begin, sig, pad_end))\n",
    "        \n",
    "    return sig"
   ]
  },
  {
   "cell_type": "markdown",
   "metadata": {},
   "source": [
    "## 3. Dataframe with audio resampled"
   ]
  },
  {
   "cell_type": "code",
   "execution_count": 3,
   "metadata": {},
   "outputs": [],
   "source": [
    "soundfiles = ['203 - Crackling fire', '205 - Chirping birds', '501 - Helicopter', '502 - Chainsaw', '510 - Hand saw' ]\n",
    "original_audio = np.array([[mypath + \"/\" + f for f in listdir(mypath) if isfile(join(mypath, f))] for mypath in [\"Dataset_ESC-50/\" + soundfiles[i] for i in range(len(soundfiles))]])\n",
    "audio_df = pd.DataFrame(data = original_audio.T, columns = soundfiles)"
   ]
  },
  {
   "cell_type": "markdown",
   "metadata": {},
   "source": [
    "## 4. Melspectrograms"
   ]
  },
  {
   "cell_type": "code",
   "execution_count": 5,
   "metadata": {},
   "outputs": [],
   "source": [
    "def melspectrogram(x, Nft = 512, fs_down = 10447, Nmel = 20) :\n",
    "    \"\"\"\n",
    "    Pre : x is the resampled signal\n",
    "    Post : melspectrogram of x\n",
    "    \"\"\"\n",
    "\n",
    "    L = len(x)\n",
    "    x_crop = x[:L-L%Nft]\n",
    "    x_new = x_crop if len(x.shape)==1 else np.mean(x_crop,axis=1)\n",
    "    L_new = len(x_new)\n",
    "    \n",
    "    audiomat = np.reshape(x_new, (L_new//Nft,Nft))\n",
    "    audioham = audiomat*np.hamming(Nft) # Windowing.\n",
    "    z = np.reshape(audioham,-1) # y windowed by pieces\n",
    "\n",
    "    stft = np.fft.fft(audioham, axis=1)\n",
    "    stft = np.abs(stft[:,:Nft//2].T) # Taking only positive frequencies and computing the magnitude\n",
    "    \n",
    "    mels = librosa.filters.mel(sr=fs_down, n_fft=Nft, n_mels=Nmel)\n",
    "    mels = mels[:,:-1]\n",
    "    mels = mels/np.max(mels)\n",
    "    \n",
    "    melspec = mels@stft\n",
    "    \n",
    "    return melspec"
   ]
  },
  {
   "cell_type": "markdown",
   "metadata": {},
   "source": [
    "## 5. Creating an entire dataset from audio path"
   ]
  },
  {
   "cell_type": "markdown",
   "metadata": {},
   "source": [
    "### 5.1 Audio transformations"
   ]
  },
  {
   "cell_type": "code",
   "execution_count": 6,
   "metadata": {},
   "outputs": [],
   "source": [
    "def add_bg(filename1, filename2, amplitude_limit=0.1):\n",
    "    sig1,sr1 = sf.read(filename1)\n",
    "    sig2, sr2 = sf.read(filename2)\n",
    "    sig = sig + sig2[:len(sig)] * np.max(sig)/np.max(sig2) * np.random.uniform(0,amplitude_limit)\n",
    "    return (sig, sr)"
   ]
  },
  {
   "cell_type": "code",
   "execution_count": 7,
   "metadata": {},
   "outputs": [],
   "source": [
    "def scaling(filename, scaling_limit=5):\n",
    "    sig,sr = sf.read(filename)\n",
    "    sig = np.random.uniform(0,scaling_limit)*sig\n",
    "    return (sig, sr)"
   ]
  },
  {
   "cell_type": "code",
   "execution_count": 8,
   "metadata": {},
   "outputs": [],
   "source": [
    "def add_noise(filename, sigma=0.05):\n",
    "    sig,sr = sf.read(filename)\n",
    "    size = len(sig)\n",
    "    random_list = np.random.normal(loc=0.0, scale=sigma, size=size)\n",
    "    return (sig + random_list,sr)"
   ]
  },
  {
   "cell_type": "markdown",
   "metadata": {},
   "source": [
    "### 5.2 Dataset computation"
   ]
  },
  {
   "cell_type": "code",
   "execution_count": null,
   "metadata": {},
   "outputs": [],
   "source": [
    "def dataset(paths, label, transform = False) :\n",
    "    df = pd.DataFrame(data = paths, columns = label)\n",
    "    df_original = df.applymap(lambda x :  sf.read(x))\n",
    "    df_original = df_original.applymap(load_ogg_file)\n",
    "    df_original = df_original.applymap(melspectrogram)\n",
    "    lst = [df_original]\n",
    "    for i in range(2) :\n",
    "        print(\"computing dataset {}\".format(i))\n",
    "        tmp_df = df.applymap(add_noise)\n",
    "        tmp_df = tmp_df.applymap(load_ogg_file)\n",
    "        lst.append(tmp_df.applymap(melspectrogram))\n",
    "    \n",
    "    return pd.concat(lst, axis = 0, ignore_index=True)"
   ]
  },
  {
   "cell_type": "code",
   "execution_count": null,
   "metadata": {},
   "outputs": [],
   "source": [
    "df = dataset(original_audio.T, soundfiles)"
   ]
  },
  {
   "cell_type": "code",
   "execution_count": 10,
   "metadata": {},
   "outputs": [
    {
     "ename": "NameError",
     "evalue": "name 'df' is not defined",
     "output_type": "error",
     "traceback": [
      "\u001b[1;31m---------------------------------------------------------------------------\u001b[0m",
      "\u001b[1;31mNameError\u001b[0m                                 Traceback (most recent call last)",
      "\u001b[1;32m<ipython-input-10-197405b6b7e9>\u001b[0m in \u001b[0;36m<module>\u001b[1;34m\u001b[0m\n\u001b[0;32m      1\u001b[0m \u001b[0mframes\u001b[0m \u001b[1;33m=\u001b[0m \u001b[1;33m[\u001b[0m\u001b[1;33m]\u001b[0m\u001b[1;33m\u001b[0m\u001b[1;33m\u001b[0m\u001b[0m\n\u001b[1;32m----> 2\u001b[1;33m \u001b[1;32mfor\u001b[0m \u001b[0mi\u001b[0m \u001b[1;32min\u001b[0m \u001b[0mrange\u001b[0m\u001b[1;33m(\u001b[0m\u001b[0mlen\u001b[0m\u001b[1;33m(\u001b[0m\u001b[0mdf\u001b[0m\u001b[1;33m.\u001b[0m\u001b[0mcolumns\u001b[0m\u001b[1;33m)\u001b[0m\u001b[1;33m)\u001b[0m \u001b[1;33m:\u001b[0m\u001b[1;33m\u001b[0m\u001b[1;33m\u001b[0m\u001b[0m\n\u001b[0m\u001b[0;32m      3\u001b[0m     \u001b[1;32mfor\u001b[0m \u001b[0mj\u001b[0m \u001b[1;32min\u001b[0m \u001b[0mdf\u001b[0m\u001b[1;33m[\u001b[0m\u001b[0mdf\u001b[0m\u001b[1;33m.\u001b[0m\u001b[0mcolumns\u001b[0m\u001b[1;33m[\u001b[0m\u001b[0mi\u001b[0m\u001b[1;33m]\u001b[0m\u001b[1;33m]\u001b[0m \u001b[1;33m:\u001b[0m\u001b[1;33m\u001b[0m\u001b[1;33m\u001b[0m\u001b[0m\n\u001b[0;32m      4\u001b[0m         \u001b[0mtmp\u001b[0m \u001b[1;33m=\u001b[0m \u001b[0mnp\u001b[0m\u001b[1;33m.\u001b[0m\u001b[0mappend\u001b[0m\u001b[1;33m(\u001b[0m\u001b[0mj\u001b[0m\u001b[1;33m,\u001b[0m\u001b[0mi\u001b[0m\u001b[1;33m)\u001b[0m\u001b[1;33m\u001b[0m\u001b[1;33m\u001b[0m\u001b[0m\n\u001b[0;32m      5\u001b[0m         \u001b[0mtmp\u001b[0m \u001b[1;33m=\u001b[0m \u001b[0mpd\u001b[0m\u001b[1;33m.\u001b[0m\u001b[0mDataFrame\u001b[0m\u001b[1;33m(\u001b[0m\u001b[0mtmp\u001b[0m\u001b[1;33m)\u001b[0m\u001b[1;33m.\u001b[0m\u001b[0mT\u001b[0m\u001b[1;33m\u001b[0m\u001b[1;33m\u001b[0m\u001b[0m\n",
      "\u001b[1;31mNameError\u001b[0m: name 'df' is not defined"
     ]
    }
   ],
   "source": [
    "frames = []\n",
    "for i in range(len(df.columns)) :\n",
    "    for j in df[df.columns[i]] :\n",
    "        tmp = np.append(j,i)\n",
    "        tmp = pd.DataFrame(tmp).T\n",
    "        frames.append(tmp)\n",
    "\n",
    "test_df = pd.concat(frames)"
   ]
  },
  {
   "cell_type": "code",
   "execution_count": null,
   "metadata": {},
   "outputs": [],
   "source": []
  },
  {
   "cell_type": "code",
   "execution_count": 103,
   "metadata": {},
   "outputs": [],
   "source": [
    "test_df.to_csv(\"test_melspec.csv\", index = False)"
   ]
  },
  {
   "cell_type": "markdown",
   "metadata": {},
   "source": [
    "## 6. Classification using CNN"
   ]
  },
  {
   "cell_type": "markdown",
   "metadata": {},
   "source": [
    "### 6.1 Network definition"
   ]
  },
  {
   "cell_type": "code",
   "execution_count": 305,
   "metadata": {},
   "outputs": [],
   "source": [
    "class MelSpecClassifier (nn.Module):\n",
    "    def __init__(self):\n",
    "        super().__init__()\n",
    "        conv_layers = []\n",
    "\n",
    "        # First Convolution Block\n",
    "        self.conv1 = nn.Conv2d(1, 8, kernel_size=5, stride=2, padding=2)\n",
    "        self.relu1 = nn.PReLU()\n",
    "        self.bn1 = nn.BatchNorm2d(8)\n",
    "        conv_layers += [self.conv1, self.relu1, self.bn1]\n",
    "        \n",
    "        # Second Convolution Block\n",
    "        self.conv2 = nn.Conv2d(8, 16, kernel_size=3, stride=2, padding=1)\n",
    "        self.relu2 = nn.PReLU()\n",
    "        self.bn2 = nn.BatchNorm2d(16)\n",
    "        conv_layers += [self.conv2, self.relu2, self.bn2]\n",
    "        \n",
    "        # Third Convolution Block\n",
    "        self.conv3 = nn.Conv2d(16, 32, kernel_size=3, stride=2, padding=1)\n",
    "        self.relu3 = nn.PReLU()\n",
    "        self.bn3 = nn.BatchNorm2d(32)\n",
    "        conv_layers += [self.conv3, self.relu3, self.bn3]\n",
    "\n",
    "        # Fourth Convolution Block\n",
    "        self.conv4 = nn.Conv2d(32, 64, kernel_size=3, stride=2, padding=1)\n",
    "        self.relu4 = nn.PReLU()\n",
    "        self.bn4 = nn.BatchNorm2d(64)\n",
    "        conv_layers += [self.conv4, self.relu4, self.bn4]\n",
    "        \n",
    "        # Fifth Convolution Block\n",
    "        self.conv5 = nn.Conv2d(64, 128, kernel_size=3, stride=2, padding=1)\n",
    "        self.relu5 = nn.PReLU()\n",
    "        self.bn5 = nn.BatchNorm2d(128)\n",
    "        conv_layers += [self.conv5, self.relu5, self.bn5]\n",
    "        \n",
    "        \n",
    "        # Dropout Layer\n",
    "        self.drp = nn.Dropout2d(p = 0.2)\n",
    "        \n",
    "        # Linear Classifier\n",
    "        self.ap = nn.AdaptiveAvgPool2d(output_size=1)\n",
    "        self.fc = nn.Linear(in_features=128, out_features=5)\n",
    "\n",
    "        # Wrap the Convolutional Blocks\n",
    "        self.conv = nn.Sequential(*conv_layers)\n",
    "        self.initialize_weights()\n",
    "        \n",
    "    def forward(self, x):\n",
    "        x = self.conv(x)\n",
    "        x = self.drp(x)\n",
    "        # Adaptive pool and flatten for input to linear layer\n",
    "        x = self.ap(x)\n",
    "        x = x.view(x.shape[0], -1)\n",
    "        x = self.fc(x)\n",
    "\n",
    "        return x\n",
    "\n",
    "\n",
    "    def initialize_weights(self) :\n",
    "        for m in self.modules() :\n",
    "            if isinstance(m, nn.Conv2d) :\n",
    "                nn.init.kaiming_normal_(m.weight, a = 0.1)\n",
    "                if m.bias is not None :\n",
    "                    nn.init.constant_(m.bias, 0)"
   ]
  },
  {
   "cell_type": "markdown",
   "metadata": {},
   "source": [
    "### 6.2 Custom dataset"
   ]
  },
  {
   "cell_type": "code",
   "execution_count": 269,
   "metadata": {},
   "outputs": [],
   "source": [
    "class CustomDataset(Dataset):\n",
    "    def __init__(self, df):\n",
    "        self.df = df\n",
    "        col = [\"data\", \"label\"]\n",
    "        labels = []\n",
    "        mels = []\n",
    "        for i in range(len(self.df.columns)) :\n",
    "            labels += [i] * len(self.df[self.df.columns[i]])\n",
    "\n",
    "        for i in self.df.columns :\n",
    "            for j in self.df[i].values :\n",
    "                mels.append(j)\n",
    "        row = [mels, labels]      \n",
    "        dic = {col[i]: row[i] for i in range(len(col))}\n",
    "        self.data = pd.DataFrame.from_dict(dic)\n",
    "        \n",
    "    def __len__(self):\n",
    "        return len(self.df)    \n",
    "\n",
    "    def __getitem__(self, idx):\n",
    "        specgram = torch.Tensor(self.data[\"data\"][idx]).unsqueeze(0)\n",
    "        class_label = torch.tensor(self.data[\"label\"][idx])\n",
    "        return specgram, class_label"
   ]
  },
  {
   "cell_type": "markdown",
   "metadata": {},
   "source": [
    "### 6.3 Dataset matching specifications\n",
    "- ADC samples the signal received from the microphone at a 10989 Hz\n",
    "- 20 melvectors are computed with ONLY 10 components (here we have 102)"
   ]
  },
  {
   "cell_type": "code",
   "execution_count": 19,
   "metadata": {},
   "outputs": [],
   "source": [
    "def shaping_audio(audio, dic, col, nb = 10, sr=10989) :\n",
    "    sig = load_ogg_file(audio)\n",
    "    sig_len = sig.shape[0]\n",
    "    L = sig_len//nb\n",
    "    for i in range(nb) :\n",
    "        mels = melspectrogram(sig[i*L:(i+1)*L])\n",
    "        dic[col].append(mels)"
   ]
  },
  {
   "cell_type": "code",
   "execution_count": 20,
   "metadata": {},
   "outputs": [],
   "source": [
    "def data_shape(_df) :\n",
    "    dic = {}\n",
    "    for i in _df.columns :\n",
    "        print(i)\n",
    "        dic[i] = []\n",
    "        for j in _df[i].values :\n",
    "            shaping_audio(sf.read(j), dic, i)\n",
    "    return pd.DataFrame.from_dict(dic)"
   ]
  },
  {
   "cell_type": "code",
   "execution_count": null,
   "metadata": {},
   "outputs": [],
   "source": [
    "def dataset(paths, label, transform = False) :\n",
    "    df = pd.DataFrame(data = paths, columns = label) # sound paths\n",
    "    df_original = df.applymap(lambda x :  sf.read(x)) # sounds\n",
    "    df_original = df_original.applymap(shaping_audio) # shaping sounds\n",
    "    \n",
    "    lst = [df_original]\n",
    "    for i in range(2) :\n",
    "        print(\"computing dataset {}\".format(i))\n",
    "        tmp_df = df.applymap(add_noise)\n",
    "        lst.append(tmp_df.applymap(shaping_audio))\n",
    "    \n",
    "    return pd.concat(lst, axis = 0, ignore_index=True)"
   ]
  },
  {
   "cell_type": "code",
   "execution_count": 14,
   "metadata": {
    "collapsed": true
   },
   "outputs": [
    {
     "name": "stdout",
     "output_type": "stream",
     "text": [
      "203 - Crackling fire\n",
      "205 - Chirping birds\n",
      "501 - Helicopter\n",
      "502 - Chainsaw\n",
      "510 - Hand saw\n"
     ]
    },
    {
     "data": {
      "text/html": [
       "<div>\n",
       "<style scoped>\n",
       "    .dataframe tbody tr th:only-of-type {\n",
       "        vertical-align: middle;\n",
       "    }\n",
       "\n",
       "    .dataframe tbody tr th {\n",
       "        vertical-align: top;\n",
       "    }\n",
       "\n",
       "    .dataframe thead th {\n",
       "        text-align: right;\n",
       "    }\n",
       "</style>\n",
       "<table border=\"1\" class=\"dataframe\">\n",
       "  <thead>\n",
       "    <tr style=\"text-align: right;\">\n",
       "      <th></th>\n",
       "      <th>203 - Crackling fire</th>\n",
       "      <th>205 - Chirping birds</th>\n",
       "      <th>501 - Helicopter</th>\n",
       "      <th>502 - Chainsaw</th>\n",
       "      <th>510 - Hand saw</th>\n",
       "    </tr>\n",
       "  </thead>\n",
       "  <tbody>\n",
       "    <tr>\n",
       "      <th>0</th>\n",
       "      <td>[[0.16139553802987835, 1.129010422569741, 0.41...</td>\n",
       "      <td>[[0.28009388384273526, 0.19227444108293093, 0....</td>\n",
       "      <td>[[34.67986352239215, 55.242985228413545, 47.20...</td>\n",
       "      <td>[[4.106173216198236, 9.108093557076055, 6.5726...</td>\n",
       "      <td>[[0.6273128829696692, 0.3741801137366557, 2.05...</td>\n",
       "    </tr>\n",
       "    <tr>\n",
       "      <th>1</th>\n",
       "      <td>[[4.178506481438082, 3.2839335317721763, 3.164...</td>\n",
       "      <td>[[0.38288912788831536, 0.17849659969166626, 0....</td>\n",
       "      <td>[[43.82066243073142, 51.58700410348674, 52.876...</td>\n",
       "      <td>[[3.789552204883522, 3.773905988869249, 13.803...</td>\n",
       "      <td>[[1.2567006914069319, 1.993477808757619, 3.545...</td>\n",
       "    </tr>\n",
       "    <tr>\n",
       "      <th>2</th>\n",
       "      <td>[[4.072953643684883, 4.534967315838344, 3.7293...</td>\n",
       "      <td>[[0.1901116309065296, 0.1345662833831983, 0.18...</td>\n",
       "      <td>[[70.6355997509764, 37.32341964246812, 42.4516...</td>\n",
       "      <td>[[15.123331135589117, 16.98377124720216, 13.71...</td>\n",
       "      <td>[[4.166573230657808, 2.95486542373388, 4.55522...</td>\n",
       "    </tr>\n",
       "    <tr>\n",
       "      <th>3</th>\n",
       "      <td>[[6.399588357633699, 5.285834362321213, 22.364...</td>\n",
       "      <td>[[0.231994821830621, 0.13810245794547907, 0.12...</td>\n",
       "      <td>[[48.29891257472128, 84.53330462761731, 46.911...</td>\n",
       "      <td>[[11.05480935856629, 19.522449101939, 28.22597...</td>\n",
       "      <td>[[5.2499992535204205, 3.4750105349216263, 2.33...</td>\n",
       "    </tr>\n",
       "    <tr>\n",
       "      <th>4</th>\n",
       "      <td>[[3.368813194857822, 6.33667596082666, 2.12766...</td>\n",
       "      <td>[[0.1251758583537867, 0.14452445143416476, 0.1...</td>\n",
       "      <td>[[64.42056927763981, 53.373142348067645, 47.18...</td>\n",
       "      <td>[[18.796135817532075, 34.5725488736344, 35.818...</td>\n",
       "      <td>[[7.687703889976566, 3.5899370107809023, 4.947...</td>\n",
       "    </tr>\n",
       "  </tbody>\n",
       "</table>\n",
       "</div>"
      ],
      "text/plain": [
       "                                203 - Crackling fire  \\\n",
       "0  [[0.16139553802987835, 1.129010422569741, 0.41...   \n",
       "1  [[4.178506481438082, 3.2839335317721763, 3.164...   \n",
       "2  [[4.072953643684883, 4.534967315838344, 3.7293...   \n",
       "3  [[6.399588357633699, 5.285834362321213, 22.364...   \n",
       "4  [[3.368813194857822, 6.33667596082666, 2.12766...   \n",
       "\n",
       "                                205 - Chirping birds  \\\n",
       "0  [[0.28009388384273526, 0.19227444108293093, 0....   \n",
       "1  [[0.38288912788831536, 0.17849659969166626, 0....   \n",
       "2  [[0.1901116309065296, 0.1345662833831983, 0.18...   \n",
       "3  [[0.231994821830621, 0.13810245794547907, 0.12...   \n",
       "4  [[0.1251758583537867, 0.14452445143416476, 0.1...   \n",
       "\n",
       "                                    501 - Helicopter  \\\n",
       "0  [[34.67986352239215, 55.242985228413545, 47.20...   \n",
       "1  [[43.82066243073142, 51.58700410348674, 52.876...   \n",
       "2  [[70.6355997509764, 37.32341964246812, 42.4516...   \n",
       "3  [[48.29891257472128, 84.53330462761731, 46.911...   \n",
       "4  [[64.42056927763981, 53.373142348067645, 47.18...   \n",
       "\n",
       "                                      502 - Chainsaw  \\\n",
       "0  [[4.106173216198236, 9.108093557076055, 6.5726...   \n",
       "1  [[3.789552204883522, 3.773905988869249, 13.803...   \n",
       "2  [[15.123331135589117, 16.98377124720216, 13.71...   \n",
       "3  [[11.05480935856629, 19.522449101939, 28.22597...   \n",
       "4  [[18.796135817532075, 34.5725488736344, 35.818...   \n",
       "\n",
       "                                      510 - Hand saw  \n",
       "0  [[0.6273128829696692, 0.3741801137366557, 2.05...  \n",
       "1  [[1.2567006914069319, 1.993477808757619, 3.545...  \n",
       "2  [[4.166573230657808, 2.95486542373388, 4.55522...  \n",
       "3  [[5.2499992535204205, 3.4750105349216263, 2.33...  \n",
       "4  [[7.687703889976566, 3.5899370107809023, 4.947...  "
      ]
     },
     "execution_count": 14,
     "metadata": {},
     "output_type": "execute_result"
    }
   ],
   "source": [
    "audio_df = pd.DataFrame(data = original_audio.T, columns = soundfiles)"
   ]
  },
  {
   "cell_type": "code",
   "execution_count": 17,
   "metadata": {},
   "outputs": [
    {
     "data": {
      "text/plain": [
       "(20, 10)"
      ]
     },
     "execution_count": 17,
     "metadata": {},
     "output_type": "execute_result"
    }
   ],
   "source": [
    "aug_df[\"203 - Crackling fire\"][0].shape"
   ]
  },
  {
   "cell_type": "markdown",
   "metadata": {},
   "source": [
    "### 6.4 Fitting data, inference and loss"
   ]
  },
  {
   "cell_type": "code",
   "execution_count": 312,
   "metadata": {},
   "outputs": [],
   "source": [
    "def inference (model, val_dl):\n",
    "    correct_prediction = 0\n",
    "    total_prediction = 0\n",
    "\n",
    "    # Disable gradient updates\n",
    "    with torch.no_grad():\n",
    "        for data in val_dl:\n",
    "            # Get the input features and target labels, and put them on the GPU\n",
    "            inputs, labels = data[0].to(device), data[1].to(device)\n",
    "\n",
    "            # Normalize the inputs\n",
    "            inputs_m, inputs_s = inputs.mean(), inputs.std()\n",
    "            inputs = (inputs - inputs_m) / inputs_s\n",
    "\n",
    "            # Get predictions\n",
    "            outputs = model(inputs)\n",
    "\n",
    "            # Get the predicted class with the highest score\n",
    "            _, prediction = torch.max(outputs,1)\n",
    "            # Count of predictions that matched the target label\n",
    "            correct_prediction += (prediction == labels).sum().item()\n",
    "            total_prediction += prediction.shape[0]\n",
    "\n",
    "            acc = correct_prediction/total_prediction\n",
    "            print(f'Test Accuracy: {acc:.2f}, Total items: {total_prediction}')\n",
    "\n",
    "    return acc"
   ]
  },
  {
   "cell_type": "code",
   "execution_count": 313,
   "metadata": {},
   "outputs": [],
   "source": [
    "def training(model, train_dl, num_epochs):\n",
    "    acc_train = []\n",
    "    acc_test = []\n",
    "\n",
    "    criterion = nn.CrossEntropyLoss()\n",
    "    optimizer = torch.optim.Adam(model.parameters(), lr=0.01)\n",
    "\n",
    "\n",
    "    for epoch in range(num_epochs):\n",
    "        running_loss = 0.0\n",
    "        correct_prediction = 0\n",
    "        total_prediction = 0\n",
    "\n",
    "        # Repeat for each batch in the training set\n",
    "        for i, data in enumerate(train_dl):\n",
    "            # Get the input features and target labels, and put them on the GPU\n",
    "            inputs, labels = data[0].to(device), data[1].to(device)\n",
    "            \n",
    "            # Normalize the inputs\n",
    "            inputs_m, inputs_s = inputs.mean(), inputs.std()\n",
    "            inputs = (inputs - inputs_m) / inputs_s\n",
    "\n",
    "            # Zero the parameter gradients\n",
    "            optimizer.zero_grad()\n",
    "\n",
    "            # forward + backward + optimize\n",
    "            outputs = model(inputs)\n",
    "            loss = criterion(outputs, labels)\n",
    "            loss.backward()\n",
    "            optimizer.step()\n",
    "\n",
    "            # Keep stats for Loss and Accuracy\n",
    "            running_loss += loss.item()\n",
    "\n",
    "            # Get the predicted class with the highest score\n",
    "            _, prediction = torch.max(outputs,1)\n",
    "            # Count of predictions that matched the target label\n",
    "            correct_prediction += (prediction == labels).sum().item()\n",
    "            total_prediction += prediction.shape[0]\n",
    "\n",
    "            #if i % 10 == 0:    # print every 10 mini-batches\n",
    "            #    print('[%d, %5d] loss: %.3f' % (epoch + 1, i + 1, running_loss / 10))\n",
    "\n",
    "        # Print stats at the end of the epoch\n",
    "        num_batches = len(train_dl)\n",
    "        avg_loss = running_loss / num_batches\n",
    "        acc = correct_prediction/total_prediction\n",
    "        acc_train.append(acc)\n",
    "        print(f'Epoch: {epoch}, Loss: {avg_loss:.2f}, Train Accuracy: {acc:.2f}')\n",
    "\n",
    "        acc_test.append(inference(model, val_dl))\n",
    "\n",
    "\n",
    "    print('Finished Training')\n",
    "    return acc_train, acc_test"
   ]
  },
  {
   "cell_type": "markdown",
   "metadata": {},
   "source": [
    "### 6.5 Dataset and dataloaders initializations"
   ]
  },
  {
   "cell_type": "code",
   "execution_count": 380,
   "metadata": {},
   "outputs": [],
   "source": [
    "from torch.utils.data import random_split\n",
    "myds = CustomDataset(aug_df)\n",
    "\n",
    "num_items = len(myds)\n",
    "num_train = round(num_items * 0.8)\n",
    "num_val = num_items - num_train\n",
    "train_ds, val_ds = random_split(myds, [num_train, num_val])\n",
    "\n",
    "train_dl = torch.utils.data.DataLoader(train_ds, batch_size=64, shuffle=True)\n",
    "val_dl = torch.utils.data.DataLoader(val_ds, batch_size=16, shuffle=False)"
   ]
  },
  {
   "cell_type": "markdown",
   "metadata": {},
   "source": [
    "### 6.6 Training and validation steps"
   ]
  },
  {
   "cell_type": "code",
   "execution_count": 381,
   "metadata": {},
   "outputs": [
    {
     "name": "stdout",
     "output_type": "stream",
     "text": [
      "Epoch: 0, Loss: 1.69, Train Accuracy: 0.39\n",
      "Test Accuracy: 0.44, Total items: 16\n",
      "Test Accuracy: 0.41, Total items: 32\n",
      "Test Accuracy: 0.35, Total items: 48\n",
      "Test Accuracy: 0.38, Total items: 64\n",
      "Test Accuracy: 0.41, Total items: 80\n",
      "Epoch: 1, Loss: 1.25, Train Accuracy: 0.75\n",
      "Test Accuracy: 0.94, Total items: 16\n",
      "Test Accuracy: 0.88, Total items: 32\n",
      "Test Accuracy: 0.88, Total items: 48\n",
      "Test Accuracy: 0.86, Total items: 64\n",
      "Test Accuracy: 0.85, Total items: 80\n",
      "Epoch: 2, Loss: 0.80, Train Accuracy: 0.97\n",
      "Test Accuracy: 1.00, Total items: 16\n",
      "Test Accuracy: 1.00, Total items: 32\n",
      "Test Accuracy: 0.98, Total items: 48\n",
      "Test Accuracy: 0.98, Total items: 64\n",
      "Test Accuracy: 0.99, Total items: 80\n",
      "Epoch: 3, Loss: 0.32, Train Accuracy: 0.98\n",
      "Test Accuracy: 1.00, Total items: 16\n",
      "Test Accuracy: 1.00, Total items: 32\n",
      "Test Accuracy: 1.00, Total items: 48\n",
      "Test Accuracy: 1.00, Total items: 64\n",
      "Test Accuracy: 1.00, Total items: 80\n",
      "Epoch: 4, Loss: 0.10, Train Accuracy: 1.00\n",
      "Test Accuracy: 1.00, Total items: 16\n",
      "Test Accuracy: 1.00, Total items: 32\n",
      "Test Accuracy: 1.00, Total items: 48\n",
      "Test Accuracy: 1.00, Total items: 64\n",
      "Test Accuracy: 1.00, Total items: 80\n",
      "Epoch: 5, Loss: 0.02, Train Accuracy: 1.00\n",
      "Test Accuracy: 1.00, Total items: 16\n",
      "Test Accuracy: 1.00, Total items: 32\n",
      "Test Accuracy: 1.00, Total items: 48\n",
      "Test Accuracy: 1.00, Total items: 64\n",
      "Test Accuracy: 1.00, Total items: 80\n",
      "Epoch: 6, Loss: 0.01, Train Accuracy: 1.00\n",
      "Test Accuracy: 1.00, Total items: 16\n",
      "Test Accuracy: 1.00, Total items: 32\n",
      "Test Accuracy: 1.00, Total items: 48\n",
      "Test Accuracy: 1.00, Total items: 64\n",
      "Test Accuracy: 1.00, Total items: 80\n",
      "Epoch: 7, Loss: 0.00, Train Accuracy: 1.00\n",
      "Test Accuracy: 1.00, Total items: 16\n",
      "Test Accuracy: 1.00, Total items: 32\n",
      "Test Accuracy: 1.00, Total items: 48\n",
      "Test Accuracy: 1.00, Total items: 64\n",
      "Test Accuracy: 1.00, Total items: 80\n",
      "Epoch: 8, Loss: 0.00, Train Accuracy: 1.00\n",
      "Test Accuracy: 1.00, Total items: 16\n",
      "Test Accuracy: 1.00, Total items: 32\n",
      "Test Accuracy: 1.00, Total items: 48\n",
      "Test Accuracy: 1.00, Total items: 64\n",
      "Test Accuracy: 1.00, Total items: 80\n",
      "Epoch: 9, Loss: 0.00, Train Accuracy: 1.00\n",
      "Test Accuracy: 1.00, Total items: 16\n",
      "Test Accuracy: 1.00, Total items: 32\n",
      "Test Accuracy: 1.00, Total items: 48\n",
      "Test Accuracy: 1.00, Total items: 64\n",
      "Test Accuracy: 1.00, Total items: 80\n",
      "Epoch: 10, Loss: 0.00, Train Accuracy: 1.00\n",
      "Test Accuracy: 1.00, Total items: 16\n",
      "Test Accuracy: 1.00, Total items: 32\n",
      "Test Accuracy: 1.00, Total items: 48\n",
      "Test Accuracy: 1.00, Total items: 64\n",
      "Test Accuracy: 1.00, Total items: 80\n",
      "Epoch: 11, Loss: 0.00, Train Accuracy: 1.00\n",
      "Test Accuracy: 1.00, Total items: 16\n",
      "Test Accuracy: 1.00, Total items: 32\n",
      "Test Accuracy: 1.00, Total items: 48\n",
      "Test Accuracy: 1.00, Total items: 64\n",
      "Test Accuracy: 1.00, Total items: 80\n",
      "Epoch: 12, Loss: 0.00, Train Accuracy: 1.00\n",
      "Test Accuracy: 1.00, Total items: 16\n",
      "Test Accuracy: 1.00, Total items: 32\n",
      "Test Accuracy: 1.00, Total items: 48\n",
      "Test Accuracy: 1.00, Total items: 64\n",
      "Test Accuracy: 1.00, Total items: 80\n",
      "Epoch: 13, Loss: 0.00, Train Accuracy: 1.00\n",
      "Test Accuracy: 1.00, Total items: 16\n",
      "Test Accuracy: 1.00, Total items: 32\n",
      "Test Accuracy: 1.00, Total items: 48\n",
      "Test Accuracy: 1.00, Total items: 64\n",
      "Test Accuracy: 1.00, Total items: 80\n",
      "Epoch: 14, Loss: 0.00, Train Accuracy: 1.00\n",
      "Test Accuracy: 1.00, Total items: 16\n",
      "Test Accuracy: 1.00, Total items: 32\n",
      "Test Accuracy: 1.00, Total items: 48\n",
      "Test Accuracy: 1.00, Total items: 64\n",
      "Test Accuracy: 1.00, Total items: 80\n",
      "Epoch: 15, Loss: 0.00, Train Accuracy: 1.00\n",
      "Test Accuracy: 1.00, Total items: 16\n",
      "Test Accuracy: 1.00, Total items: 32\n",
      "Test Accuracy: 1.00, Total items: 48\n",
      "Test Accuracy: 1.00, Total items: 64\n",
      "Test Accuracy: 1.00, Total items: 80\n",
      "Epoch: 16, Loss: 0.00, Train Accuracy: 1.00\n",
      "Test Accuracy: 1.00, Total items: 16\n",
      "Test Accuracy: 1.00, Total items: 32\n",
      "Test Accuracy: 1.00, Total items: 48\n",
      "Test Accuracy: 1.00, Total items: 64\n",
      "Test Accuracy: 1.00, Total items: 80\n",
      "Epoch: 17, Loss: 0.00, Train Accuracy: 1.00\n",
      "Test Accuracy: 1.00, Total items: 16\n",
      "Test Accuracy: 1.00, Total items: 32\n",
      "Test Accuracy: 1.00, Total items: 48\n",
      "Test Accuracy: 1.00, Total items: 64\n",
      "Test Accuracy: 1.00, Total items: 80\n",
      "Epoch: 18, Loss: 0.00, Train Accuracy: 1.00\n",
      "Test Accuracy: 1.00, Total items: 16\n",
      "Test Accuracy: 1.00, Total items: 32\n",
      "Test Accuracy: 1.00, Total items: 48\n",
      "Test Accuracy: 1.00, Total items: 64\n",
      "Test Accuracy: 1.00, Total items: 80\n",
      "Epoch: 19, Loss: 0.00, Train Accuracy: 1.00\n",
      "Test Accuracy: 1.00, Total items: 16\n",
      "Test Accuracy: 1.00, Total items: 32\n",
      "Test Accuracy: 1.00, Total items: 48\n",
      "Test Accuracy: 1.00, Total items: 64\n",
      "Test Accuracy: 1.00, Total items: 80\n",
      "Finished Training\n",
      "Time needed :  2.042079210281372\n"
     ]
    },
    {
     "data": {
      "image/png": "[encoded data removed]",
      "text/plain": [
       "<Figure size 432x288 with 1 Axes>"
      ]
     },
     "metadata": {
      "needs_background": "light"
     },
     "output_type": "display_data"
    }
   ],
   "source": [
    "import matplotlib.pyplot as plt\n",
    "import time\n",
    "\n",
    "# Model Instantiation\n",
    "myModel = MelSpecClassifier()\n",
    "device = torch.device(\"cuda:0\" if torch.cuda.is_available() else \"cpu\")\n",
    "myModel = myModel.to(device)\n",
    "next(myModel.parameters()).device\n",
    "\n",
    "# Training and validation step\n",
    "t_init = time.time()\n",
    "num_epochs= 20\n",
    "trainAcc, testAcc = training(myModel, train_dl, num_epochs)\n",
    "t_final= time.time()\n",
    "print(\"Time needed : \", t_final-t_init)\n",
    "\n",
    "# Plotting curve of train/test accuracies with regards to the number of epochs\n",
    "x = np.arange(0, num_epochs, 1)\n",
    "\n",
    "plt.plot(x, trainAcc, label = 'train')\n",
    "plt.plot(x, testAcc, label = 'test')\n",
    "plt.grid()\n",
    "plt.legend()\n",
    "plt.xlabel(\"Number of Epochs\")\n",
    "plt.ylabel(\"Train/Test accuracy\")\n",
    "plt.title(\"Train/Test accuracy with regards to the number of epochs\")\n",
    "plt.show()\n"
   ]
  },
  {
   "cell_type": "markdown",
   "metadata": {},
   "source": []
  },
  {
   "cell_type": "code",
   "execution_count": null,
   "metadata": {},
   "outputs": [],
   "source": []
  }
 ],
 "metadata": {
  "kernelspec": {
   "display_name": "Python 3",
   "language": "python",
   "name": "python3"
  },
  "language_info": {
   "codemirror_mode": {
    "name": "ipython",
    "version": 3
   },
   "file_extension": ".py",
   "mimetype": "text/x-python",
   "name": "python",
   "nbconvert_exporter": "python",
   "pygments_lexer": "ipython3",
   "version": "3.8.5"
  }
 },
 "nbformat": 4,
 "nbformat_minor": 4
}
